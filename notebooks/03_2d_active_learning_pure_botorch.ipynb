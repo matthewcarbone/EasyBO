{
 "cells": [
  {
   "cell_type": "code",
   "execution_count": null,
   "id": "d0aa0b25-1b8d-467a-9b04-b81d2bccce6a",
   "metadata": {},
   "outputs": [],
   "source": [
    "%load_ext autoreload\n",
    "%autoreload 2\n",
    "%config Completer.use_jedi = False"
   ]
  },
  {
   "cell_type": "code",
   "execution_count": null,
   "id": "5f7a7574-cdfa-4bac-977a-d15d011763d6",
   "metadata": {},
   "outputs": [],
   "source": [
    "from copy import deepcopy, copy\n",
    "import matplotlib.pyplot as plt\n",
    "import matplotlib as mpl\n",
    "import numpy as np\n",
    "import sys\n",
    "import torch\n",
    "from tqdm import tqdm"
   ]
  },
  {
   "cell_type": "code",
   "execution_count": null,
   "id": "c82b57b9-1372-4443-9f3e-fe612b2b04fc",
   "metadata": {},
   "outputs": [],
   "source": [
    "sys.path.append(\"..\")\n",
    "plt.rcParams[\"figure.figsize\"] = (3, 2)\n",
    "mpl.rcParams['figure.dpi'] = 300"
   ]
  },
  {
   "cell_type": "code",
   "execution_count": null,
   "id": "ccc155cd-a35f-43ad-ba31-d4d7fdc4e5e7",
   "metadata": {},
   "outputs": [],
   "source": [
    "from easybo.utils import get_dummy_2d_data, set_grids, grids_to_coordinates\n",
    "from easybo.botorch_local.optim.initializers import get_batch_initial_conditions_nonlinear_function"
   ]
  },
  {
   "cell_type": "markdown",
   "id": "058f9c45-2f5c-4a5b-9862-b93cc9dda616",
   "metadata": {
    "tags": []
   },
   "source": [
    "# Active learning in a 2d space"
   ]
  },
  {
   "cell_type": "markdown",
   "id": "24cf93f3-7ce2-4da8-91a7-7bfb18a3f43e",
   "metadata": {},
   "source": [
    "While it isn't really an \"interesting\" form of Bayesian Optimization, it is a useful one. Pure active learning is a 100% exploratory algorithm which seeks to minimize the overall variance of the estimator subject to some boundary constraints. For example, given an estimator with mean $\\mu(x)$ and standard deviation $\\sigma(x),$ the Active Learning policy, also called Maximum Variance (MaxVar) is defined by acquisition function\n",
    "\n",
    "$$ A(x) = \\sigma^2(x)$$\n",
    "\n",
    "As the goal is to maximize the acquisition function, new points will always be sampled where the variance of the estimator is highest.\n",
    "\n",
    "We can approximate the above $A(x)$ by using the `UpperConfidenceBound` acquisition function with a very large value for $\\beta$."
   ]
  },
  {
   "cell_type": "markdown",
   "id": "6c6ea64f-dd03-4fe8-a3ce-795a8907fc82",
   "metadata": {},
   "source": [
    "## The oracle"
   ]
  },
  {
   "cell_type": "markdown",
   "id": "a6c4484d-848c-4222-82e2-85637d9a35c1",
   "metadata": {},
   "source": [
    "Every problem in autonomous experimentation must have a source of truth. This source of truth can be a real-world experiment, a simulation, or something else. Regardless, it must be \"where the buck stops\". The source of truth is considered the \"right answer\" with respect to the estimator prediction.\n",
    "\n",
    "In this notebook, we create some dummy training data and also get a source of truth (a function called `truth`) which can be queried to get the \"right\" answer. However, in principle, you can define the `truth` function to be whatever you want. It must only take an input in the same vector space as your estimator's inputs, and return an output in the same vector space as your estimator's output."
   ]
  },
  {
   "cell_type": "code",
   "execution_count": null,
   "id": "1a59dccd-366e-4cf1-97ce-976d353e00af",
   "metadata": {},
   "outputs": [],
   "source": [
    "grid_x1, grid_x2, _, _, truth, truth_meshgrid = get_dummy_2d_data(seed=124)\n",
    "grid = grids_to_coordinates([grid_x1, grid_x2])"
   ]
  },
  {
   "cell_type": "markdown",
   "id": "59da6c6a-2269-404c-8b96-d6a07fb12b2d",
   "metadata": {},
   "source": [
    "For example:"
   ]
  },
  {
   "cell_type": "code",
   "execution_count": null,
   "id": "6ac1faaa-6913-4a5a-adfc-f8d0b21eded1",
   "metadata": {},
   "outputs": [],
   "source": [
    "input_dimension = 2\n",
    "X = np.array([0.234, 0.567]).reshape(1, input_dimension)\n",
    "truth(X)"
   ]
  },
  {
   "cell_type": "markdown",
   "id": "a6238443-9380-433a-b588-4a1fc27e1915",
   "metadata": {},
   "source": [
    "## The estimator"
   ]
  },
  {
   "cell_type": "markdown",
   "id": "012e1543-adf8-43f0-b917-1799606eae08",
   "metadata": {},
   "source": [
    "In this work, we will be using a **Gaussian Process** (GP) as our estimator for modeling the space. Specifically, suppose the input dimension is $D$, and the output dimension is 1. The GP is a mapping from $\\mathbb{R}^D \\mapsto \\mathbb{R}$. The GP can also be sampled to produce a measure of uncertainty given some input point."
   ]
  },
  {
   "cell_type": "markdown",
   "id": "f62d84ef-3b82-4fec-82bc-bcf0026efc83",
   "metadata": {},
   "source": [
    "## The data"
   ]
  },
  {
   "cell_type": "markdown",
   "id": "3f4d3854-7de8-4ddf-8e99-1ef05b1c151b",
   "metadata": {},
   "source": [
    "Suppose we have an experiment where observations are acquired sequentially, but on an arbitrary delay. In other words, suppose we propose an experiment on iteration `i`. That experiment's results will not be observed until the (`i+n`)th iteration. `n=1` corresponds to a delay time of zero.\n",
    "\n",
    "To start the experiment, we choose some random points within the bounds of the experiment we wish to perform. In this simple example, we have a dimension `D=2` and, let's say, we have a delay time of `n=5`. Thus, we should propose 5 experiments to start. Once the first of these is observed, there will be 4 remaining in the queue, and our next proposed experiment should take into account that we have 4 points still in the queue.\n",
    "\n",
    "In order to bootstrap the experiment, let's choose 4 random points from a `LatinHypercube` sampler in the space `D=2` subject to the constraints $x_1 \\in [-4, 5]$ and $x_2 \\in [-5, 4]$."
   ]
  },
  {
   "cell_type": "code",
   "execution_count": null,
   "id": "712cc93d-bce0-4506-bade-82ee8bb542e2",
   "metadata": {},
   "outputs": [],
   "source": [
    "bounds = [[-4.0, 5.0], [-5.0, 4.0]]"
   ]
  },
  {
   "cell_type": "code",
   "execution_count": null,
   "id": "405c6802-2bfa-423e-aa5b-8011327d911d",
   "metadata": {},
   "outputs": [],
   "source": [
    "n_pending = 5"
   ]
  },
  {
   "cell_type": "code",
   "execution_count": null,
   "id": "e51446ae-777b-4fdd-af4f-0991fc284a67",
   "metadata": {},
   "outputs": [],
   "source": [
    "from scipy.stats.qmc import LatinHypercube"
   ]
  },
  {
   "cell_type": "code",
   "execution_count": null,
   "id": "a0ef151e-a835-46f1-b5cd-2a6149ce7b57",
   "metadata": {},
   "outputs": [],
   "source": [
    "sampler = LatinHypercube(d=2, seed=123)\n",
    "sample = sampler.random(n=n_pending)\n",
    "\n",
    "# We should scale the sample to our boundaries\n",
    "sample[:, 0] = (bounds[0][1] - bounds[0][0]) * sample[:, 0] + bounds[0][0]\n",
    "sample[:, 1] = (bounds[1][1] - bounds[1][0]) * sample[:, 1] + bounds[1][0]\n",
    "sample"
   ]
  },
  {
   "cell_type": "markdown",
   "id": "f2685d87-16db-4168-a4a3-bea71a6622c3",
   "metadata": {},
   "source": [
    "## Running the experiment"
   ]
  },
  {
   "cell_type": "markdown",
   "id": "129ca8d6-be17-4d53-b60f-2d819f94a47d",
   "metadata": {},
   "source": [
    "We now have our initial data, and our source of truth. All that remains is to run the experiment! The general process will be as follows:\n",
    "\n",
    "1. Pop the queue to get the experiment that will be observed next.\n",
    "2. Observe the result of that experiment.\n",
    "3. Add that input-output pair to the training set.\n",
    "4. Condition and train a GP on the current data.\n",
    "5. Use that GP, acquisition function and optimizer to find the next experiment, _given_ the current pending experiments.\n",
    "6. Add that new point to the queue.\n",
    "7. Repeat from step 1."
   ]
  },
  {
   "cell_type": "code",
   "execution_count": null,
   "id": "33f4acf7-102d-4bea-bb67-d96273fffd41",
   "metadata": {},
   "outputs": [],
   "source": [
    "import torch\n",
    "torch.set_default_dtype(torch.float64)\n",
    "from botorch.fit import fit_gpytorch_mll\n",
    "from botorch.models import SingleTaskGP\n",
    "from botorch.optim import optimize_acqf\n",
    "from botorch.acquisition import UpperConfidenceBound\n",
    "import gpytorch"
   ]
  },
  {
   "cell_type": "markdown",
   "id": "cf0c0cd0-0ad1-41a8-8a8d-1838b6c3d138",
   "metadata": {},
   "source": [
    "## Standard optimization without constraints"
   ]
  },
  {
   "cell_type": "code",
   "execution_count": null,
   "id": "fdb8378e-6ad0-46d2-b757-6835796641eb",
   "metadata": {
    "tags": []
   },
   "outputs": [],
   "source": [
    "DEVICE = \"cpu\"\n",
    "\n",
    "X = torch.tensor(sample.copy()).to(DEVICE)\n",
    "Y = truth(X).reshape(-1, 1).to(DEVICE)\n",
    "\n",
    "for iteration in tqdm(range(100)):\n",
    "\n",
    "        # Condition the GP on the current data\n",
    "        model = SingleTaskGP(\n",
    "            train_X=X,\n",
    "            train_Y=Y,\n",
    "            likelihood=gpytorch.likelihoods.GaussianLikelihood(),\n",
    "            mean_module=gpytorch.means.ConstantMean(),\n",
    "            covar_module=gpytorch.kernels.ScaleKernel(\n",
    "                gpytorch.kernels.MaternKernel(nu=2.5)\n",
    "            ),\n",
    "        ).to(DEVICE)\n",
    "        \n",
    "        # Train\n",
    "        mll = gpytorch.mlls.ExactMarginalLogLikelihood(likelihood=model.likelihood, model=model)\n",
    "        fit_gpytorch_mll(mll)\n",
    "        \n",
    "        # Ask\n",
    "        acq_function = UpperConfidenceBound(model, beta=100.0)\n",
    "        new_points, acq_value = optimize_acqf(\n",
    "            acq_function,\n",
    "            bounds=torch.tensor(bounds).T,\n",
    "            q=1,\n",
    "            num_restarts=5,\n",
    "            raw_samples=20,\n",
    "        )\n",
    "\n",
    "        # Get the current observation. Here, `truth` will have to be implemented in a real experiment!\n",
    "        current_obs = truth(new_points).reshape(-1, 1)\n",
    "\n",
    "        # Add this new point to the queue\n",
    "        X = torch.cat([X, new_points.reshape(1, input_dimension)], axis=0)\n",
    "        Y = torch.cat([Y, current_obs], axis=0)"
   ]
  },
  {
   "cell_type": "code",
   "execution_count": null,
   "id": "4bda5ced-df4c-493b-8aaa-fb3d4ebaba41",
   "metadata": {},
   "outputs": [],
   "source": [
    "model.eval()\n",
    "model.likelihood.eval()"
   ]
  },
  {
   "cell_type": "code",
   "execution_count": null,
   "id": "eea83c81-ce1f-4ab6-9a4a-cbb6773c49eb",
   "metadata": {},
   "outputs": [],
   "source": [
    "with torch.no_grad(), gpytorch.settings.fast_pred_var():\n",
    "    posterior = model.posterior(torch.tensor(grid), observation_noise=True)\n",
    "mu = posterior.mean.detach().numpy().reshape(len(grid_x2), len(grid_x1))"
   ]
  },
  {
   "cell_type": "code",
   "execution_count": null,
   "id": "f159b6a8-478a-4de1-860f-420816314f81",
   "metadata": {},
   "outputs": [],
   "source": [
    "z = truth_meshgrid(grid_x1, grid_x2)\n",
    "z_min = -np.abs(z).max()\n",
    "z_max = np.abs(z).max()"
   ]
  },
  {
   "cell_type": "code",
   "execution_count": null,
   "id": "4894f13f-24ee-491b-89da-3b40a5804d77",
   "metadata": {},
   "outputs": [],
   "source": [
    "fig, axs = plt.subplots(1, 2, figsize=(4, 2), sharey=True, sharex=True)\n",
    "\n",
    "ax = axs[0]\n",
    "c = ax.imshow(\n",
    "    z.T, cmap='rainbow', vmin=z_min, vmax=z_max,\n",
    "    extent=[grid_x1.min(), grid_x1.max(), grid_x2.min(), grid_x2.max()],\n",
    "    interpolation ='nearest', origin ='lower'\n",
    ")\n",
    "set_grids(ax, grid=False)\n",
    "ax.set_title(\"Function\")\n",
    "\n",
    "ax = axs[1]\n",
    "c = ax.imshow(\n",
    "    mu, cmap='rainbow', vmin=z_min, vmax=z_max,\n",
    "    extent=[grid_x1.min(), grid_x1.max(), grid_x2.min(), grid_x2.max()],\n",
    "    interpolation ='nearest', origin ='lower'\n",
    ")\n",
    "set_grids(ax, grid=False)\n",
    "ax.scatter(X[:, 0], X[:, 1], s=5, color=\"black\")\n",
    "ax.scatter(sample[:, 0], sample[:, 1], s=3, color=\"blue\")\n",
    "ax.set_title(\"GP\")\n",
    "\n",
    "plt.show()"
   ]
  },
  {
   "cell_type": "markdown",
   "id": "42c69e45-8509-491f-9ba3-78d74c579df2",
   "metadata": {},
   "source": [
    "## Optional: non-linear inequality constraint"
   ]
  },
  {
   "cell_type": "markdown",
   "id": "8374ec8a-7fd6-4bc9-96ca-892471cee949",
   "metadata": {},
   "source": [
    "BoTorch allows for non-linear inequality constraints using a slightly different API than the standard linear inequality constraints."
   ]
  },
  {
   "cell_type": "markdown",
   "id": "bb9def26-c011-410e-aaea-9edc83339669",
   "metadata": {},
   "source": [
    "Let's experiment with a simple non-linear inequality constraint:\n",
    "\n",
    "$$ x_2 - |x_1| \\geq 0.5 $$\n",
    "\n",
    "and is perfectly compatible with the form of the constraint function."
   ]
  },
  {
   "cell_type": "code",
   "execution_count": null,
   "id": "372f2b29-df7d-42ef-8f81-7004c60a725f",
   "metadata": {},
   "outputs": [],
   "source": [
    "def constraint(x):\n",
    "    return x[..., 1] - torch.abs(x[..., 0]) >= 0.5"
   ]
  },
  {
   "cell_type": "code",
   "execution_count": null,
   "id": "2ec359b0-5421-426e-83f4-20e075d1a1ec",
   "metadata": {},
   "outputs": [],
   "source": [
    "gen_batch_initial_conditions_nonlinear = get_batch_initial_conditions_nonlinear_function(constraint)"
   ]
  },
  {
   "cell_type": "code",
   "execution_count": null,
   "id": "dfd93d1d-c29a-4805-a7c8-2f7e25558ed2",
   "metadata": {
    "tags": []
   },
   "outputs": [],
   "source": [
    "DEVICE = \"cpu\"\n",
    "\n",
    "X = torch.tensor(sample.copy()).to(DEVICE)\n",
    "Y = truth(X).reshape(-1, 1).to(DEVICE)\n",
    "\n",
    "for iteration in tqdm(range(100)):\n",
    "\n",
    "        # Condition the GP on the current data\n",
    "        model = SingleTaskGP(\n",
    "            train_X=X,\n",
    "            train_Y=Y,\n",
    "            likelihood=gpytorch.likelihoods.GaussianLikelihood(),\n",
    "            mean_module=gpytorch.means.ConstantMean(),\n",
    "            covar_module=gpytorch.kernels.ScaleKernel(\n",
    "                gpytorch.kernels.MaternKernel(nu=2.5)\n",
    "            ),\n",
    "        ).to(DEVICE)\n",
    "        \n",
    "        # Train\n",
    "        mll = gpytorch.mlls.ExactMarginalLogLikelihood(likelihood=model.likelihood, model=model)\n",
    "        fit_gpytorch_mll(mll)\n",
    "        \n",
    "        # Ask\n",
    "        acq_function = UpperConfidenceBound(model, beta=100.0)\n",
    "        new_points, acq_value = optimize_acqf(\n",
    "            acq_function,\n",
    "            bounds=torch.tensor(bounds).T,\n",
    "            q=1,\n",
    "            num_restarts=5,\n",
    "            raw_samples=20,\n",
    "            nonlinear_inequality_constraints=[constraint],\n",
    "            ic_generator=gen_batch_initial_conditions_nonlinear,\n",
    "        )\n",
    "\n",
    "        # Get the current observation. Here, `truth` will have to be implemented in a real experiment!\n",
    "        current_obs = truth(new_points).reshape(-1, 1)\n",
    "\n",
    "        # Add this new point to the queue\n",
    "        X = torch.cat([X, new_points.reshape(1, input_dimension)], axis=0)\n",
    "        Y = torch.cat([Y, current_obs], axis=0)"
   ]
  },
  {
   "cell_type": "code",
   "execution_count": null,
   "id": "52225022-05a0-47e0-ba16-3eee054adde0",
   "metadata": {},
   "outputs": [],
   "source": [
    "model.eval()\n",
    "model.likelihood.eval()"
   ]
  },
  {
   "cell_type": "code",
   "execution_count": null,
   "id": "ba86bfe6-cbb9-4dbd-99e0-2db28bc69b73",
   "metadata": {},
   "outputs": [],
   "source": [
    "with torch.no_grad(), gpytorch.settings.fast_pred_var():\n",
    "    posterior = model.posterior(torch.tensor(grid), observation_noise=True)\n",
    "mu = posterior.mean.detach().numpy().reshape(len(grid_x2), len(grid_x1))"
   ]
  },
  {
   "cell_type": "code",
   "execution_count": null,
   "id": "522509d3-2736-4651-8bd4-2ae1b58a8092",
   "metadata": {},
   "outputs": [],
   "source": [
    "z = truth_meshgrid(grid_x1, grid_x2)\n",
    "z_min = -np.abs(z).max()\n",
    "z_max = np.abs(z).max()"
   ]
  },
  {
   "cell_type": "code",
   "execution_count": null,
   "id": "658980ac-e453-4ab4-bfde-397d8183e49e",
   "metadata": {},
   "outputs": [],
   "source": [
    "fig, axs = plt.subplots(1, 2, figsize=(4, 2), sharey=True, sharex=True)\n",
    "\n",
    "ax = axs[0]\n",
    "c = ax.imshow(\n",
    "    z.T, cmap='rainbow', vmin=z_min, vmax=z_max,\n",
    "    extent=[grid_x1.min(), grid_x1.max(), grid_x2.min(), grid_x2.max()],\n",
    "    interpolation ='nearest', origin ='lower'\n",
    ")\n",
    "set_grids(ax, grid=False)\n",
    "ax.set_title(\"Function\")\n",
    "\n",
    "ax = axs[1]\n",
    "c = ax.imshow(\n",
    "    mu, cmap='rainbow', vmin=z_min, vmax=z_max,\n",
    "    extent=[grid_x1.min(), grid_x1.max(), grid_x2.min(), grid_x2.max()],\n",
    "    interpolation ='nearest', origin ='lower'\n",
    ")\n",
    "set_grids(ax, grid=False)\n",
    "ax.scatter(X[:, 0], X[:, 1], s=5, color=\"black\")\n",
    "ax.scatter(sample[:, 0], sample[:, 1], s=3, color=\"blue\")\n",
    "ax.set_title(\"GP\")\n",
    "\n",
    "plt.show()"
   ]
  }
 ],
 "metadata": {
  "kernelspec": {
   "display_name": "Python 3 (ipykernel)",
   "language": "python",
   "name": "python3"
  },
  "language_info": {
   "codemirror_mode": {
    "name": "ipython",
    "version": 3
   },
   "file_extension": ".py",
   "mimetype": "text/x-python",
   "name": "python",
   "nbconvert_exporter": "python",
   "pygments_lexer": "ipython3",
   "version": "3.9.13"
  },
  "toc-autonumbering": true,
  "toc-showmarkdowntxt": false
 },
 "nbformat": 4,
 "nbformat_minor": 5
}
