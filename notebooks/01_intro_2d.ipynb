{
 "cells": [
  {
   "cell_type": "code",
   "execution_count": null,
   "id": "d0aa0b25-1b8d-467a-9b04-b81d2bccce6a",
   "metadata": {},
   "outputs": [],
   "source": [
    "%load_ext autoreload\n",
    "%autoreload 2\n",
    "%config Completer.use_jedi = False"
   ]
  },
  {
   "cell_type": "code",
   "execution_count": null,
   "id": "5f7a7574-cdfa-4bac-977a-d15d011763d6",
   "metadata": {},
   "outputs": [],
   "source": [
    "from copy import deepcopy\n",
    "import matplotlib.pyplot as plt\n",
    "import matplotlib as mpl\n",
    "import numpy as np\n",
    "import sys\n",
    "import torch"
   ]
  },
  {
   "cell_type": "code",
   "execution_count": null,
   "id": "c82b57b9-1372-4443-9f3e-fe612b2b04fc",
   "metadata": {},
   "outputs": [],
   "source": [
    "sys.path.append(\"..\")\n",
    "plt.rcParams[\"figure.figsize\"] = (3, 2)\n",
    "mpl.rcParams['figure.dpi'] = 300"
   ]
  },
  {
   "cell_type": "markdown",
   "id": "058f9c45-2f5c-4a5b-9862-b93cc9dda616",
   "metadata": {
    "tags": []
   },
   "source": [
    "# Very simple 2-dimensional input example"
   ]
  },
  {
   "cell_type": "code",
   "execution_count": null,
   "id": "1a59dccd-366e-4cf1-97ce-976d353e00af",
   "metadata": {},
   "outputs": [],
   "source": [
    "from easybo.gp import EasySingleTaskGPRegressor\n",
    "from easybo.bo import ask\n",
    "from easybo.logger import mode\n",
    "from easybo.utils import get_dummy_2d_data, set_grids, grids_to_coordinates"
   ]
  },
  {
   "cell_type": "markdown",
   "id": "1b731a2b-34bd-4558-afc7-7e28d6f9dc79",
   "metadata": {},
   "source": [
    "**Step 1:** create some dummy training data."
   ]
  },
  {
   "cell_type": "code",
   "execution_count": null,
   "id": "11655534-04c4-4137-88c9-4f1b6473038d",
   "metadata": {},
   "outputs": [],
   "source": [
    "grid_x1, grid_x2, train_x, train_y, truth, truth_meshgrid = get_dummy_2d_data(seed=123)\n",
    "grid = grids_to_coordinates([grid_x1, grid_x2])"
   ]
  },
  {
   "cell_type": "markdown",
   "id": "2bfd64a7-9dce-4bdb-acd5-708b47c8abcc",
   "metadata": {},
   "source": [
    "**Step 2:** get the initial model conditioned on the training data, and run inference on the un-optimized GP, just to see what it looks like."
   ]
  },
  {
   "cell_type": "code",
   "execution_count": null,
   "id": "8691f38e-3725-42b2-878e-d08db8447d8a",
   "metadata": {},
   "outputs": [],
   "source": [
    "model = EasySingleTaskGPRegressor(\n",
    "    train_x=train_x,\n",
    "    train_y=train_y,\n",
    "    normalize_inputs_to_unity=True,\n",
    "    standardize_outputs=True\n",
    ")"
   ]
  },
  {
   "cell_type": "markdown",
   "id": "d9613883-0dfa-4497-ab90-54cb680673cd",
   "metadata": {},
   "source": [
    "**Step 3:** training: optimize the hyper-parameters (by default, this is just a kernel of the form `Const x RBF`. We can optionally use the `mode` context manager to indicate the logging level of the procedure. Note that this context manager can be used with any function, class, method, etc. in `easybo`."
   ]
  },
  {
   "cell_type": "code",
   "execution_count": null,
   "id": "49181bc9-353e-4810-96f3-67f4e45f9c71",
   "metadata": {
    "tags": []
   },
   "outputs": [],
   "source": [
    "with mode(debug=True):\n",
    "    model.train_()"
   ]
  },
  {
   "cell_type": "markdown",
   "id": "230a8065-1b89-439e-9d57-74eb0cbaa747",
   "metadata": {},
   "source": [
    "**Step 4:** predict and plot!"
   ]
  },
  {
   "cell_type": "code",
   "execution_count": null,
   "id": "0058851c-76de-41a1-8fd4-c6d41c798243",
   "metadata": {},
   "outputs": [],
   "source": [
    "pred = model.predict(grid=grid)"
   ]
  },
  {
   "cell_type": "code",
   "execution_count": null,
   "id": "f09fe2b8-6997-4e18-893c-d36fcc69d838",
   "metadata": {},
   "outputs": [],
   "source": [
    "mu = pred[\"mean\"].reshape(len(grid_x2), len(grid_x1))"
   ]
  },
  {
   "cell_type": "code",
   "execution_count": null,
   "id": "64914b00-9b03-41ee-8b50-eb5b93c62494",
   "metadata": {},
   "outputs": [],
   "source": [
    "z = truth_meshgrid(grid_x1, grid_x2)\n",
    "z_min = -np.abs(z).max()\n",
    "z_max = np.abs(z).max()"
   ]
  },
  {
   "cell_type": "code",
   "execution_count": null,
   "id": "ab66a271-32fc-429d-b5ce-442fb2ebfc06",
   "metadata": {},
   "outputs": [],
   "source": [
    "fig, axs = plt.subplots(1, 2, figsize=(4, 2), sharey=True, sharex=True)\n",
    "\n",
    "ax = axs[0]\n",
    "c = ax.imshow(\n",
    "    z.T, cmap='rainbow', vmin=z_min, vmax=z_max,\n",
    "    extent=[grid_x1.min(), grid_x1.max(), grid_x2.min(), grid_x2.max()],\n",
    "    interpolation ='nearest', origin ='lower'\n",
    ")\n",
    "set_grids(ax, grid=False)\n",
    "ax.set_title(\"Function\")\n",
    "\n",
    "ax = axs[1]\n",
    "c = ax.imshow(\n",
    "    mu, cmap='rainbow', vmin=z_min, vmax=z_max,\n",
    "    extent=[grid_x1.min(), grid_x1.max(), grid_x2.min(), grid_x2.max()],\n",
    "    interpolation ='nearest', origin ='lower'\n",
    ")\n",
    "set_grids(ax, grid=False)\n",
    "ax.scatter(train_x[:, 0], train_x[:, 1], s=0.3, color=\"black\")\n",
    "# ax.scatter(X_original[:, 0], X_original[:, 1], s=0.3, color=\"blue\")\n",
    "ax.set_title(\"GP\", )\n",
    "\n",
    "plt.show()"
   ]
  },
  {
   "cell_type": "markdown",
   "id": "43f8979d-8c83-442b-9480-2ba0d57b435f",
   "metadata": {},
   "source": [
    "## Basic Bayesian optimization with constraints"
   ]
  },
  {
   "cell_type": "markdown",
   "id": "1f9b5d46-92e5-444f-a47f-5ab23c075f5d",
   "metadata": {},
   "source": [
    "We can do some simple Bayesian optimization under constraint. From the botorch docs:\n",
    "\n",
    "> inequality_constraints (Optional[List[Tuple[Tensor, Tensor, float]]]) – A list of tuples (indices, coefficients, rhs), with each tuple encoding an inequality constraint of the form sum_i (X[indices[i]] * coefficients[i]) >= rhs\n",
    "\n",
    "Let's do a simple constraint where we want $x_1 + x_2 <= -1$. Negating both sides to put it into the correct form, we have $-x_1 - x_2 >= 1,$ which would lead to a constraint `[(torch.tensor([0, 1]), torch.tensor([-1, -1]), 1)]`"
   ]
  },
  {
   "cell_type": "code",
   "execution_count": null,
   "id": "c7e481a9-4abf-4784-bc80-ae2cf30ac6fa",
   "metadata": {},
   "outputs": [],
   "source": [
    "inequality_constraints = [(torch.tensor([0, 1]), torch.tensor([-1.0, -1.0]).float(), 1)]"
   ]
  },
  {
   "cell_type": "code",
   "execution_count": null,
   "id": "07de962d-d896-4e30-86a0-54688a9bd21d",
   "metadata": {},
   "outputs": [],
   "source": [
    "new_points = ask(\n",
    "    model=model,\n",
    "    bounds=[[-4, 5], [-5, 4]],\n",
    "    acquisition_function=\"qMaxVar\",\n",
    "    acquisition_function_kwargs=dict(),\n",
    "    optimize_acqf_kwargs={\"q\": 10, \"num_restarts\": 5, \"raw_samples\": 20, \"inequality_constraints\": inequality_constraints},\n",
    ")"
   ]
  },
  {
   "cell_type": "code",
   "execution_count": null,
   "id": "1a58e36e-f5ba-4878-9c5d-59e4b8878a1f",
   "metadata": {},
   "outputs": [],
   "source": [
    "fig, axs = plt.subplots(1, 2, figsize=(4, 2), sharey=True, sharex=True)\n",
    "\n",
    "ax = axs[0]\n",
    "c = ax.imshow(\n",
    "    z.T, cmap='rainbow', vmin=z_min, vmax=z_max,\n",
    "    extent=[grid_x1.min(), grid_x1.max(), grid_x2.min(), grid_x2.max()],\n",
    "    interpolation ='nearest', origin ='lower'\n",
    ")\n",
    "set_grids(ax, grid=False)\n",
    "ax.set_title(\"Function\")\n",
    "\n",
    "ax = axs[1]\n",
    "c = ax.imshow(\n",
    "    mu, cmap='rainbow', vmin=z_min, vmax=z_max,\n",
    "    extent=[grid_x1.min(), grid_x1.max(), grid_x2.min(), grid_x2.max()],\n",
    "    interpolation ='nearest', origin ='lower'\n",
    ")\n",
    "set_grids(ax, grid=False)\n",
    "ax.scatter(train_x[:, 0], train_x[:, 1], s=0.3, color=\"black\")\n",
    "ax.scatter(new_points[:, 0], new_points[:, 1], s=4, color=\"blue\")\n",
    "ax.set_title(\"GP\")\n",
    "\n",
    "plt.show()"
   ]
  },
  {
   "cell_type": "code",
   "execution_count": null,
   "id": "2db9266a-98f4-438a-8f8a-566a36676f94",
   "metadata": {},
   "outputs": [],
   "source": []
  }
 ],
 "metadata": {
  "kernelspec": {
   "display_name": "Python 3 (ipykernel)",
   "language": "python",
   "name": "python3"
  },
  "language_info": {
   "codemirror_mode": {
    "name": "ipython",
    "version": 3
   },
   "file_extension": ".py",
   "mimetype": "text/x-python",
   "name": "python",
   "nbconvert_exporter": "python",
   "pygments_lexer": "ipython3",
   "version": "3.9.13"
  },
  "toc-autonumbering": true
 },
 "nbformat": 4,
 "nbformat_minor": 5
}
