{
 "cells": [
  {
   "cell_type": "code",
   "execution_count": null,
   "id": "d0aa0b25-1b8d-467a-9b04-b81d2bccce6a",
   "metadata": {},
   "outputs": [],
   "source": [
    "%load_ext autoreload\n",
    "%autoreload 2\n",
    "%config Completer.use_jedi = False"
   ]
  },
  {
   "cell_type": "code",
   "execution_count": null,
   "id": "5f7a7574-cdfa-4bac-977a-d15d011763d6",
   "metadata": {},
   "outputs": [],
   "source": [
    "from copy import deepcopy\n",
    "import matplotlib.pyplot as plt\n",
    "import matplotlib as mpl\n",
    "import numpy as np\n",
    "import sys\n",
    "import torch"
   ]
  },
  {
   "cell_type": "code",
   "execution_count": null,
   "id": "c82b57b9-1372-4443-9f3e-fe612b2b04fc",
   "metadata": {},
   "outputs": [],
   "source": [
    "sys.path.append(\"..\")\n",
    "plt.rcParams[\"figure.figsize\"] = (3, 2)\n",
    "mpl.rcParams[\"figure.dpi\"] = 300"
   ]
  },
  {
   "cell_type": "markdown",
   "id": "058f9c45-2f5c-4a5b-9862-b93cc9dda616",
   "metadata": {
    "tags": []
   },
   "source": [
    "# Very simple example from the BoTorch docs using `easyBO`"
   ]
  },
  {
   "cell_type": "markdown",
   "id": "2cd44129-3443-4836-8daf-c6116876db70",
   "metadata": {},
   "source": [
    "See [here](https://botorch.org/v/0.1.0/tutorials/fit_model_with_torch_optimizer). In this simple example, we do the following:\n",
    "1. Initialize a single task GP regressor from dummy training data\n",
    "2. Assume homoscedastic noise\n",
    "3. Train the GP hyperparameters\n",
    "4. Plot the results"
   ]
  },
  {
   "cell_type": "code",
   "execution_count": null,
   "id": "1a59dccd-366e-4cf1-97ce-976d353e00af",
   "metadata": {},
   "outputs": [],
   "source": [
    "from easybo.gp import EasySingleTaskGPRegressor\n",
    "from easybo.bo import ask\n",
    "from easybo.logger import logging_mode, logger\n",
    "from easybo.utils import plot_1d_fit, get_dummy_1d_sinusoidal_data, set_grids"
   ]
  },
  {
   "cell_type": "markdown",
   "id": "1b731a2b-34bd-4558-afc7-7e28d6f9dc79",
   "metadata": {},
   "source": [
    "**Step 1:** create some dummy training data."
   ]
  },
  {
   "cell_type": "code",
   "execution_count": null,
   "id": "11655534-04c4-4137-88c9-4f1b6473038d",
   "metadata": {},
   "outputs": [],
   "source": [
    "grid, train_x, train_y = get_dummy_1d_sinusoidal_data()"
   ]
  },
  {
   "cell_type": "code",
   "execution_count": null,
   "id": "f963b6de-6148-4f7d-8741-382859942afc",
   "metadata": {},
   "outputs": [],
   "source": [
    "train_y = train_y * 100\n",
    "train_x = train_x * 10\n",
    "grid = grid * 10"
   ]
  },
  {
   "cell_type": "markdown",
   "id": "2bfd64a7-9dce-4bdb-acd5-708b47c8abcc",
   "metadata": {},
   "source": [
    "**Step 2:** get the initial model conditioned on the training data, and run inference on the un-optimized GP, just to see what it looks like."
   ]
  },
  {
   "cell_type": "code",
   "execution_count": null,
   "id": "8691f38e-3725-42b2-878e-d08db8447d8a",
   "metadata": {},
   "outputs": [],
   "source": [
    "model = EasySingleTaskGPRegressor(\n",
    "    train_x=train_x,\n",
    "    train_y=train_y,\n",
    "    normalize_inputs_to_unity=True,\n",
    "    standardize_outputs=True,\n",
    ")"
   ]
  },
  {
   "cell_type": "markdown",
   "id": "d9613883-0dfa-4497-ab90-54cb680673cd",
   "metadata": {},
   "source": [
    "**Step 3:** training: optimize the hyper-parameters (by default, this is just a kernel of the form `Const x RBF`. We can optionally use the `mode` context manager to indicate the logging level of the procedure. Note that this context manager can be used with any function, class, method, etc. in `easybo`."
   ]
  },
  {
   "cell_type": "code",
   "execution_count": null,
   "id": "49181bc9-353e-4810-96f3-67f4e45f9c71",
   "metadata": {
    "tags": []
   },
   "outputs": [],
   "source": [
    "with logging_mode(debug=True, debug_simple=True):\n",
    "    model.train_()"
   ]
  },
  {
   "cell_type": "code",
   "execution_count": null,
   "id": "b0e415b3-4207-4f94-a934-de771c916898",
   "metadata": {},
   "outputs": [],
   "source": [
    "preds = model.predict(grid=grid)"
   ]
  },
  {
   "cell_type": "markdown",
   "id": "c5b9842f-3f30-4d93-86da-8b9b43dbbdee",
   "metadata": {},
   "source": [
    "**Step 4:** now we can experiment with adding more data. During e.g. autonomous experimentation, we might want to add new data to the model, and condition it appropriately. The `tell` API calls BoTorch's `condition_on_observations` method, handing necessary transforms along the way."
   ]
  },
  {
   "cell_type": "code",
   "execution_count": null,
   "id": "c5a5c8aa-3283-42cd-b35d-70c76b5bccc4",
   "metadata": {},
   "outputs": [],
   "source": [
    "new_x = np.array([2.25, 2.50]).reshape(-1, 1) * 10\n",
    "new_y = np.array([1, 2]).reshape(-1, 1) * 100\n",
    "with logging_mode(debug=True, debug_simple=True):\n",
    "    new_model = model.tell(new_x=new_x, new_y=new_y, retrain=False)"
   ]
  },
  {
   "cell_type": "markdown",
   "id": "1d70b455-303a-4255-822f-c4bf48c5850c",
   "metadata": {},
   "source": [
    "**Step 5:** plot the results!"
   ]
  },
  {
   "cell_type": "code",
   "execution_count": null,
   "id": "ed6226d4-4070-4107-a6ea-912b3369b015",
   "metadata": {},
   "outputs": [],
   "source": [
    "with logging_mode(debug=True, debug_simple=True):\n",
    "    new_model.train_()"
   ]
  },
  {
   "cell_type": "code",
   "execution_count": null,
   "id": "c54f8a91-236b-46c4-8bd2-13c6debd0918",
   "metadata": {},
   "outputs": [],
   "source": [
    "ground_truth = new_model.dream(seed=123)\n",
    "sampled = ground_truth.predict(grid=grid)[\"mean\"]"
   ]
  },
  {
   "cell_type": "code",
   "execution_count": null,
   "id": "ab66a271-32fc-429d-b5ce-442fb2ebfc06",
   "metadata": {},
   "outputs": [],
   "source": [
    "fig, axs = plt.subplots(1, 2, figsize=(3, 2), sharey=True, sharex=True)\n",
    "\n",
    "ax = axs[0]\n",
    "set_grids(ax, grid=False)\n",
    "plot_1d_fit(ax=ax, model=model, grid=grid * 2)\n",
    "ax.set_ylabel(r\"$f(x)$\")\n",
    "\n",
    "ax = axs[1]\n",
    "set_grids(ax, grid=False)\n",
    "plot_1d_fit(ax=ax, model=new_model, grid=grid * 2)\n",
    "ax.legend(bbox_to_anchor=(1.05, 0.5), loc=\"center left\", frameon=False)\n",
    "\n",
    "ax.plot(grid, sampled, linewidth=1)\n",
    "\n",
    "ax = fig.add_subplot(111, frameon=False)\n",
    "plt.tick_params(labelcolor=\"none\", top=\"off\", bottom=\"off\", left=\"off\", right=\"off\")\n",
    "ax.set_xticks([])\n",
    "ax.set_yticks([])\n",
    "ax.set_xlabel(r\"$x$\", labelpad=15)\n",
    "\n",
    "plt.subplots_adjust(wspace=0.1)\n",
    "plt.show()\n",
    "# plt.savefig(\"figure1.png\", dpi=300, bbox_inches=\"tight\")"
   ]
  }
 ],
 "metadata": {
  "kernelspec": {
   "display_name": "Python 3 (ipykernel)",
   "language": "python",
   "name": "python3"
  },
  "language_info": {
   "codemirror_mode": {
    "name": "ipython",
    "version": 3
   },
   "file_extension": ".py",
   "mimetype": "text/x-python",
   "name": "python",
   "nbconvert_exporter": "python",
   "pygments_lexer": "ipython3",
   "version": "3.9.13"
  },
  "toc-autonumbering": true
 },
 "nbformat": 4,
 "nbformat_minor": 5
}
