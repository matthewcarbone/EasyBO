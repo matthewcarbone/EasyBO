{
 "cells": [
  {
   "cell_type": "code",
   "execution_count": null,
   "id": "c0e83438-8bd6-4788-b083-fb2dfd2a77ce",
   "metadata": {},
   "outputs": [],
   "source": [
    "%load_ext autoreload\n",
    "%autoreload 2\n",
    "%config Completer.use_jedi = False"
   ]
  },
  {
   "cell_type": "code",
   "execution_count": null,
   "id": "31ac3818-6943-4249-a47d-51c0ce68f39a",
   "metadata": {},
   "outputs": [],
   "source": [
    "from IPython.display import clear_output"
   ]
  },
  {
   "cell_type": "code",
   "execution_count": null,
   "id": "3184ae5a-34e3-4410-9653-8c5cc8bf1f58",
   "metadata": {},
   "outputs": [],
   "source": [
    "import math\n",
    "import torch\n",
    "import numpy as np\n",
    "import gpytorch\n",
    "from matplotlib import pyplot as plt"
   ]
  },
  {
   "cell_type": "markdown",
   "id": "37e856dc-c996-4199-be6b-b18fbcb859ef",
   "metadata": {},
   "source": [
    "# Classification using the Dirichlet Classification Likelihood, botorch and EasyBO"
   ]
  },
  {
   "cell_type": "markdown",
   "id": "e1f73d10-0303-4a6e-88d4-6214218aa86f",
   "metadata": {},
   "source": [
    "We adapt the tutorial [here](https://docs.gpytorch.ai/en/stable/examples/01_Exact_GPs/GP_Regression_on_Classification_Labels.html).\n",
    "\n",
    "First, generate the data. We have two inputs ($x, y$) and three outputs (three-class classification)."
   ]
  },
  {
   "cell_type": "code",
   "execution_count": null,
   "id": "28490cab-0006-4e94-99b0-2b2357706120",
   "metadata": {},
   "outputs": [],
   "source": [
    "def gen_data(num_data, seed = 2019):\n",
    "    torch.random.manual_seed(seed)\n",
    "\n",
    "    x = torch.randn(num_data,1)\n",
    "    y = torch.randn(num_data,1)\n",
    "\n",
    "    u = torch.rand(1)\n",
    "    data_fn = lambda x, y: 1 * torch.sin(0.15 * u * 3.1415 * (x + y)) + 1\n",
    "    latent_fn = data_fn(x, y)\n",
    "    z = torch.round(latent_fn).long().squeeze()\n",
    "    return torch.cat((x,y),dim=1), z, data_fn"
   ]
  },
  {
   "cell_type": "code",
   "execution_count": null,
   "id": "317f9fac-e448-4817-87e7-e1a0a844f998",
   "metadata": {},
   "outputs": [],
   "source": [
    "train_x, train_y, genfn = gen_data(500)"
   ]
  },
  {
   "cell_type": "code",
   "execution_count": null,
   "id": "cc41a746-8ab8-48b9-a197-802d098b218d",
   "metadata": {},
   "outputs": [],
   "source": [
    "plt.scatter(train_x[:,0].numpy(), train_x[:,1].numpy(), c = train_y)"
   ]
  },
  {
   "cell_type": "code",
   "execution_count": null,
   "id": "97140bfe-8138-4ea1-82fd-a7d748b41212",
   "metadata": {},
   "outputs": [],
   "source": [
    "test_d1 = np.linspace(-3, 3, 20)\n",
    "test_d2 = np.linspace(-3, 3, 20)\n",
    "\n",
    "test_x_mat, test_y_mat = np.meshgrid(test_d1, test_d2)\n",
    "test_x_mat, test_y_mat = torch.Tensor(test_x_mat), torch.Tensor(test_y_mat)\n",
    "\n",
    "test_x = torch.cat((test_x_mat.view(-1,1), test_y_mat.view(-1,1)),dim=1)\n",
    "test_labels = torch.round(genfn(test_x_mat, test_y_mat))\n",
    "test_y = test_labels.view(-1)"
   ]
  },
  {
   "cell_type": "code",
   "execution_count": null,
   "id": "8e088a52-48a2-4475-8042-13295be7f8a1",
   "metadata": {},
   "outputs": [],
   "source": [
    "plt.contourf(test_x_mat.numpy(), test_y_mat.numpy(), test_labels.numpy())"
   ]
  },
  {
   "cell_type": "markdown",
   "id": "9b763614-49bf-4f96-b82b-7699ae82f341",
   "metadata": {},
   "source": [
    "## Model initialization and training"
   ]
  },
  {
   "cell_type": "code",
   "execution_count": null,
   "id": "c1aa316b-2164-4a50-b04f-49642f5e8440",
   "metadata": {},
   "outputs": [],
   "source": [
    "from easyBO import gp, bo"
   ]
  },
  {
   "cell_type": "code",
   "execution_count": null,
   "id": "f28f7f2c-f6fa-423e-aa32-50124d2ec7d4",
   "metadata": {},
   "outputs": [],
   "source": [
    "model = gp.get_gp(train_x=train_x, train_y=train_y, gp_type=\"classification\")"
   ]
  },
  {
   "cell_type": "code",
   "execution_count": null,
   "id": "417338b5-6221-497b-a2eb-490fefd3012d",
   "metadata": {},
   "outputs": [],
   "source": [
    "losses = gp.train_gp_(model=model)"
   ]
  },
  {
   "cell_type": "code",
   "execution_count": null,
   "id": "f8fa531a-d135-4931-acc0-4caafe00b94d",
   "metadata": {},
   "outputs": [],
   "source": [
    "test_dist = gp.infer(model=model, grid=test_x, parsed=False)"
   ]
  },
  {
   "cell_type": "code",
   "execution_count": null,
   "id": "1e5ac70d-c84f-480c-bf73-3864530541b9",
   "metadata": {},
   "outputs": [],
   "source": [
    "pred_means = test_dist.mean"
   ]
  },
  {
   "cell_type": "code",
   "execution_count": null,
   "id": "1ce0574b-cd1b-43da-85c3-4ebd5d6afbb0",
   "metadata": {},
   "outputs": [],
   "source": [
    "fig, ax = plt.subplots(1, 3, figsize = (15, 5))\n",
    "\n",
    "for i in range(3):\n",
    "    im = ax[i].contourf(\n",
    "        test_x_mat.numpy(), test_y_mat.numpy(), pred_means[i].numpy().reshape((20,20))\n",
    "    )\n",
    "    fig.colorbar(im, ax=ax[i])\n",
    "    ax[i].set_title(\"Logits: Class \" + str(i), fontsize = 20)"
   ]
  },
  {
   "cell_type": "code",
   "execution_count": null,
   "id": "a6b0b8f2-ac46-4731-9f24-1a1e84b5c739",
   "metadata": {},
   "outputs": [],
   "source": [
    "pred_samples = test_dist.sample(torch.Size((256,))).exp()\n",
    "probabilities = (pred_samples / pred_samples.sum(-2, keepdim=True)).mean(0)"
   ]
  },
  {
   "cell_type": "code",
   "execution_count": null,
   "id": "46980f87-e6e6-425b-8217-3bc3ed0afc76",
   "metadata": {},
   "outputs": [],
   "source": [
    "fig, ax = plt.subplots(1, 3, figsize = (15, 5))\n",
    "\n",
    "levels = np.linspace(0, 1.05, 20)\n",
    "for i in range(3):\n",
    "    im = ax[i].contourf(\n",
    "        test_x_mat.numpy(), test_y_mat.numpy(), probabilities[i].numpy().reshape((20,20)), levels=levels\n",
    "    )\n",
    "    fig.colorbar(im, ax=ax[i])\n",
    "    ax[i].set_title(\"Probabilities: Class \" + str(i), fontsize = 20)"
   ]
  },
  {
   "cell_type": "code",
   "execution_count": null,
   "id": "76ff75b7-1ed0-4c92-8ae6-1dcad76423c4",
   "metadata": {},
   "outputs": [],
   "source": [
    "from easyBO import bo\n",
    "from botorch.acquisition.objective import ScalarizedPosteriorTransform"
   ]
  },
  {
   "cell_type": "code",
   "execution_count": null,
   "id": "c24c7706-4d47-4b24-8634-5bbe4b29a0de",
   "metadata": {},
   "outputs": [],
   "source": [
    "posterior_transform = ScalarizedPosteriorTransform(weights=torch.tensor([1.0, 1.0, 1.0]))"
   ]
  },
  {
   "cell_type": "code",
   "execution_count": null,
   "id": "379c6e4a-7828-4563-9aee-f9c4b23a7848",
   "metadata": {},
   "outputs": [],
   "source": [
    "torch.manual_seed(0) # to keep the restart conditions the same\n",
    "bounds = [(-3, 3), (-3, 3)]\n",
    "pt = bo.ask(\n",
    "    model=model,\n",
    "    bounds=bounds,\n",
    "    acquisition_function=\"qMaxVar\",\n",
    "    acquisition_function_kwargs={\"posterior_transform\": posterior_transform},\n",
    "    optimize_acqf_kwargs={\"q\": 3, \"num_restarts\": 20, \"raw_samples\": 512}\n",
    ")"
   ]
  }
 ],
 "metadata": {
  "kernelspec": {
   "display_name": "Python 3 (ipykernel)",
   "language": "python",
   "name": "python3"
  },
  "language_info": {
   "codemirror_mode": {
    "name": "ipython",
    "version": 3
   },
   "file_extension": ".py",
   "mimetype": "text/x-python",
   "name": "python",
   "nbconvert_exporter": "python",
   "pygments_lexer": "ipython3",
   "version": "3.9.13"
  },
  "toc-autonumbering": true
 },
 "nbformat": 4,
 "nbformat_minor": 5
}
