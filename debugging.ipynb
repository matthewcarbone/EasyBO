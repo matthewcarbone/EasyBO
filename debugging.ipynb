{
 "cells": [
  {
   "cell_type": "code",
   "execution_count": null,
   "id": "d0aa0b25-1b8d-467a-9b04-b81d2bccce6a",
   "metadata": {},
   "outputs": [],
   "source": [
    "%load_ext autoreload\n",
    "%autoreload 2\n",
    "%config Completer.use_jedi = False"
   ]
  },
  {
   "cell_type": "code",
   "execution_count": null,
   "id": "e9bb1291-a057-4eea-8b48-b71f700e9a4f",
   "metadata": {},
   "outputs": [],
   "source": [
    "from pathlib import Path\n",
    "\n",
    "import numpy as np\n",
    "import matplotlib.pyplot as plt\n",
    "import pandas as pd"
   ]
  },
  {
   "cell_type": "code",
   "execution_count": null,
   "id": "40ed0069-52c7-4905-b292-f2eff0dfbabe",
   "metadata": {},
   "outputs": [],
   "source": [
    "class NullClass:\n",
    "    def do_nothing(*args, **kwargs):\n",
    "        pass\n",
    "    def add_colorbar(self, im, **kwargs):\n",
    "        return plt.colorbar(im)\n",
    "    def __getattr__(self, _):\n",
    "        return self.do_nothing\n",
    "try:\n",
    "    from mpl_utils import MPLAdjutant\n",
    "    adj = MPLAdjutant()\n",
    "    adj.set_defaults()\n",
    "except ImportError:\n",
    "    adj = NullClass()"
   ]
  },
  {
   "cell_type": "code",
   "execution_count": null,
   "id": "16ea8ed8-d604-44de-91ff-933490e4c07f",
   "metadata": {},
   "outputs": [],
   "source": [
    "from easygp import DEBUG, DISABLE_DEBUG, logger, disable_logger\n",
    "from easygp.gp import Campaign, AutoscalingGaussianProcessRegressor, MultiCampaign\n",
    "from easygp.policy import MaxVariancePolicy, ExpectedImprovementPolicy, ExploitationTargetPolicy"
   ]
  },
  {
   "cell_type": "code",
   "execution_count": null,
   "id": "a9b7be30-d287-483a-a5db-dfad0d41d6e9",
   "metadata": {},
   "outputs": [],
   "source": [
    "DEBUG()"
   ]
  },
  {
   "cell_type": "markdown",
   "id": "1caddaef-dee6-497b-8ef2-c14291ca9885",
   "metadata": {
    "tags": []
   },
   "source": [
    "# 1D input testing"
   ]
  },
  {
   "cell_type": "code",
   "execution_count": null,
   "id": "ede54c8d-8bba-496d-ad5c-534caaaea6e9",
   "metadata": {},
   "outputs": [],
   "source": [
    "def get_input_data(seed=127, N=1000, Nsmall=10):\n",
    "\n",
    "    np.random.seed(seed)\n",
    "    idx = np.random.choice([xx for xx in range(N)], Nsmall, replace=False)\n",
    "    idx.sort()\n",
    "    grid = np.linspace(-20, 50, N)\n",
    "\n",
    "    X = grid[idx]  # Feature data\n",
    "    \n",
    "    X[0] = -20.0\n",
    "    X[-1] = 50.0\n",
    "\n",
    "    alpha1 = (np.linspace(-2, 2, N)[idx])**2 + 0.1  # Noise/uncertainty\n",
    "    alpha2 = (np.linspace(-2, 2, N)[idx])**2 + 0.2  # Noise/uncertainty\n",
    "    alpha = np.array([alpha1, alpha2]).T\n",
    "\n",
    "    def truth(x):\n",
    "        # Linear upwards trend\n",
    "        return x + np.sin(x) * 2.345\n",
    "\n",
    "    def truth2(x):\n",
    "        return np.abs(x) - np.sin(x) * 2.345\n",
    "\n",
    "    y = np.array([truth(X), truth2(X)]).T  # Target data\n",
    "    X = X[:, None]\n",
    "    \n",
    "    return grid, X, y, alpha"
   ]
  },
  {
   "cell_type": "markdown",
   "id": "61d8831c-65cd-459c-ab5e-e39da48154b0",
   "metadata": {},
   "source": [
    "## Standalone GP"
   ]
  },
  {
   "cell_type": "code",
   "execution_count": null,
   "id": "b06eeb53-073a-43e5-9e83-97608c8b5154",
   "metadata": {},
   "outputs": [],
   "source": [
    "grid, X, y, alpha = get_input_data()"
   ]
  },
  {
   "cell_type": "code",
   "execution_count": null,
   "id": "a28c853c-81bd-4edc-aed1-6e1813e7c0da",
   "metadata": {},
   "outputs": [],
   "source": [
    "gp = AutoscalingGaussianProcessRegressor(bounds=[(-20, 50)], n_targets=2)\n",
    "gp.fit(X, y, alpha)"
   ]
  },
  {
   "cell_type": "code",
   "execution_count": null,
   "id": "2df1bd9c-f13f-49bf-b313-291274414100",
   "metadata": {},
   "outputs": [],
   "source": [
    "mu, std = gp.predict(grid)"
   ]
  },
  {
   "cell_type": "code",
   "execution_count": null,
   "id": "f3ba9db2-d260-4dfd-b0ba-b0968f5ea5e9",
   "metadata": {},
   "outputs": [],
   "source": [
    "mu_sampled = gp.sample_y_reproducibly(grid, n_samples=1, randomstate=124)\n",
    "mu_sampled2 = gp.sample_y_reproducibly(grid[::40], n_samples=1, randomstate=124)"
   ]
  },
  {
   "cell_type": "code",
   "execution_count": null,
   "id": "d9a654aa-78bf-491d-8099-16c600ed623e",
   "metadata": {},
   "outputs": [],
   "source": [
    "plt.clf()\n",
    "\n",
    "fig, axs = plt.subplots(1, 2, figsize=(6, 2), sharex=True)\n",
    "\n",
    "for ii in range(y.shape[1]):\n",
    "    ax = axs[ii]\n",
    "    adj.set_grids(ax, grid=False)\n",
    "    ax.plot(grid, mu[:, ii], 'k-')\n",
    "    ax.plot(grid, mu_sampled[:, ii], 'g-', linewidth=0.5)\n",
    "#     ax.plot(grid[::40], mu_sampled2[:, ii], 'c-', linewidth=0.5)\n",
    "    ax.fill_between(grid, (mu[:, ii] - std[:, ii]).squeeze(), (mu[:, ii] + std[:, ii]).squeeze(), color=\"red\", alpha=0.5)\n",
    "    ax.scatter(X.squeeze(), y[:, ii], color='blue', s=4)\n",
    "\n",
    "plt.show()"
   ]
  },
  {
   "cell_type": "markdown",
   "id": "4c9fa137-9d44-4861-81cc-b5bec65c6108",
   "metadata": {},
   "source": [
    "## Policy/campaign testing"
   ]
  },
  {
   "cell_type": "code",
   "execution_count": null,
   "id": "d1485b15-91a8-42f9-80cc-d0e43635e56c",
   "metadata": {},
   "outputs": [],
   "source": [
    "DISABLE_DEBUG()"
   ]
  },
  {
   "cell_type": "code",
   "execution_count": null,
   "id": "a7cdf7a9-2b4f-43b4-a79f-ab0f8586210e",
   "metadata": {},
   "outputs": [],
   "source": [
    "grid, X, y, alpha = get_input_data()"
   ]
  },
  {
   "cell_type": "code",
   "execution_count": null,
   "id": "d782115b-776e-4eb2-bb89-9106272b44bf",
   "metadata": {},
   "outputs": [],
   "source": [
    "policy = MaxVariancePolicy()\n",
    "# policy = HybridExploitExplorePolicy(percent_explore=90)\n",
    "# policy.set_target(np.array([-25.0, 50.0]))\n",
    "policy.set_weight(np.array([0.1, 1.0]))"
   ]
  },
  {
   "cell_type": "code",
   "execution_count": null,
   "id": "bdef6d24-374e-479f-a35b-5277857859ae",
   "metadata": {},
   "outputs": [],
   "source": [
    "campaign = Campaign(X, y, alpha, bounds=[(-20, 50)], policy=policy)"
   ]
  },
  {
   "cell_type": "code",
   "execution_count": null,
   "id": "b1c13833-517f-4cb6-939c-6745a51bede1",
   "metadata": {
    "tags": []
   },
   "outputs": [],
   "source": [
    "performance = campaign.run(10)"
   ]
  },
  {
   "cell_type": "markdown",
   "id": "e8d1941c-3879-4087-88fe-4aff33922237",
   "metadata": {},
   "source": [
    "### Multi-campaign testing"
   ]
  },
  {
   "cell_type": "code",
   "execution_count": null,
   "id": "0ec20faa-f7ae-4f76-a90f-fb15d1910a94",
   "metadata": {},
   "outputs": [],
   "source": [
    "campaigns = [Campaign(X, y, alpha, bounds=[(-20, 50)], policy=policy, randomstate=ii) for ii in range(12)]"
   ]
  },
  {
   "cell_type": "code",
   "execution_count": null,
   "id": "db1739f3-7848-49db-861e-a4ae251f0bf3",
   "metadata": {},
   "outputs": [],
   "source": [
    "multicampaign = MultiCampaign(campaigns)"
   ]
  },
  {
   "cell_type": "code",
   "execution_count": null,
   "id": "c838e1f7-0197-4535-b150-082f2f916447",
   "metadata": {},
   "outputs": [],
   "source": [
    "results = multicampaign.run(12, n_jobs=6)"
   ]
  },
  {
   "cell_type": "code",
   "execution_count": null,
   "id": "e45f07a9-f9fd-4b76-b20c-a3780a217e7c",
   "metadata": {},
   "outputs": [],
   "source": [
    "results[9][1]._iteration"
   ]
  },
  {
   "cell_type": "code",
   "execution_count": null,
   "id": "21515cdc-08d4-4a8c-b11d-e9cc18b2ae46",
   "metadata": {},
   "outputs": [],
   "source": [
    "campaigns[3]._iteration"
   ]
  },
  {
   "cell_type": "markdown",
   "id": "7094a618-d214-4002-a49d-5b44546f9c78",
   "metadata": {
    "tags": []
   },
   "source": [
    "# 2D test"
   ]
  },
  {
   "cell_type": "markdown",
   "id": "f0167cdf-3aa2-4c6f-8e1c-c893f2a9c6b3",
   "metadata": {},
   "source": [
    "https://www.geeksforgeeks.org/matplotlib-pyplot-imshow-in-python/"
   ]
  },
  {
   "cell_type": "code",
   "execution_count": null,
   "id": "f8019adc-8732-41a5-8405-899731308f05",
   "metadata": {},
   "outputs": [],
   "source": [
    "def grids_to_coordinates(grids):\n",
    "    x = np.meshgrid(*grids)\n",
    "    return np.array([xx.flatten() for xx in x]).T"
   ]
  },
  {
   "cell_type": "code",
   "execution_count": null,
   "id": "d18fead8-b358-456d-91d7-da158b535259",
   "metadata": {},
   "outputs": [],
   "source": [
    "np.random.seed(126)\n",
    "N = 100\n",
    "M = 150\n",
    "idx = np.random.choice([xx for xx in range(N*M)], 20, replace=False)\n",
    "idx.sort()\n",
    "\n",
    "grid_x = np.linspace(-4, 5, N)\n",
    "grid_y = np.linspace(-5, 4, M)\n",
    "\n",
    "# Feature data\n",
    "g1, g2 = np.meshgrid(grid_x, grid_y)\n",
    "X = np.array([g1.flatten(), g2.flatten()]).T\n",
    "X = X[idx, :]\n",
    "\n",
    "X_original = X.copy()\n",
    "\n",
    "# alpha = (np.linspace(-2, 2, N**2)[idx])**2 * 0  # Noise/uncertainty\n",
    "alpha = np.array([1e-5 for _ in range(len(X))])\n",
    "\n",
    "def func(x, y):\n",
    "    return (1 - x / 3. + x ** 5 + y ** 5) * np.exp(-x ** 2 - y ** 2) + np.exp(-(x - 2)**2 - (y + 4)**2)\n",
    "\n",
    "def truth(X):\n",
    "    x = X[:, 0]\n",
    "    y = X[:, 1]\n",
    "    return func(x, y)\n",
    "\n",
    "def truth_meshgrid(x, y):\n",
    "    x = x.reshape(-1, 1)\n",
    "    y = y.reshape(1, -1)\n",
    "    return func(x, y)\n",
    "    \n",
    "\n",
    "y = truth(X)  # Target data\n",
    "# X = X[:, None]\n"
   ]
  },
  {
   "cell_type": "code",
   "execution_count": null,
   "id": "2374b24f-19c1-40ee-ab71-64f62a065407",
   "metadata": {},
   "outputs": [],
   "source": [
    "grid = grids_to_coordinates([grid_x, grid_y])"
   ]
  },
  {
   "cell_type": "code",
   "execution_count": null,
   "id": "d8b01598-9bb5-4c91-b5b6-1fbfc496b769",
   "metadata": {},
   "outputs": [],
   "source": [
    "campaign = Campaign(X, y[:, None], alpha, bounds=[(-4, 5), (-5, 4)], policy=MaxVariancePolicy(), randomstate=124)\n",
    "mu, std = campaign.gp.predict(grid)"
   ]
  },
  {
   "cell_type": "code",
   "execution_count": null,
   "id": "e018c08d-e8d0-4680-8eac-96a89998fe11",
   "metadata": {
    "tags": []
   },
   "outputs": [],
   "source": [
    "performance = campaign.run(10)\n",
    "# mu2, std2 = campaign.gp.predict(grid)\n",
    "# truth = campaign.truth(grid)\n",
    "# mu = mu.reshape(M, N)\n",
    "# std = std.reshape(M, N)\n",
    "# mu2 = mu2.reshape(M, N)\n",
    "# std2 = std2.reshape(M, N)"
   ]
  },
  {
   "cell_type": "code",
   "execution_count": null,
   "id": "5a1cc8cb-3fc4-4a7b-b5d4-c208edaf5b4b",
   "metadata": {},
   "outputs": [],
   "source": [
    "truth"
   ]
  },
  {
   "cell_type": "code",
   "execution_count": null,
   "id": "f10e13ce-ac35-40f8-a81c-21a1598dc149",
   "metadata": {},
   "outputs": [],
   "source": [
    "z = truth_meshgrid(grid_x, grid_y)\n",
    "z_min = -np.abs(z).max()\n",
    "z_max = np.abs(z).max()\n",
    "\n",
    "\n",
    "\n",
    "fig, axs = plt.subplots(1, 4, figsize=(6, 6), sharey=True, sharex=True)\n",
    "\n",
    "ax = axs[0]\n",
    "c = ax.imshow(\n",
    "    z.T, cmap='rainbow', vmin=z_min, vmax=z_max,\n",
    "    extent=[grid_x.min(), grid_x.max(), grid_y.min(), grid_y.max()],\n",
    "    interpolation ='nearest', origin ='lower'\n",
    ")\n",
    "adj.set_grids(ax, grid=False)\n",
    "ax.set_title(\"Function\")\n",
    "\n",
    "ax = axs[1]\n",
    "c = ax.imshow(\n",
    "    truth.reshape(M, N), cmap='rainbow', vmin=z_min, vmax=z_max,\n",
    "    extent=[grid_x.min(), grid_x.max(), grid_y.min(), grid_y.max()],\n",
    "    interpolation ='nearest', origin ='lower'\n",
    ")\n",
    "adj.set_grids(ax, grid=False)\n",
    "ax.set_title(\"'Truth'\")\n",
    "\n",
    "# ax = axs[2]\n",
    "# c = ax.imshow(\n",
    "#     mu2, cmap='rainbow', vmin=z_min, vmax=z_max,\n",
    "#     extent=[grid_x.min(), grid_x.max(), grid_y.min(), grid_y.max()],\n",
    "#     interpolation ='nearest', origin ='lower'\n",
    "# )\n",
    "# adj.set_grids(ax, grid=False)\n",
    "# ax.scatter(campaign.X[:, 0], campaign.X[:, 1], s=0.3, color=\"black\")\n",
    "# ax.scatter(X_original[:, 0], X_original[:, 1], s=0.3, color=\"blue\")\n",
    "# ax.set_title(\"GP\")\n",
    "\n",
    "# ax = axs[3]\n",
    "# c = ax.imshow(\n",
    "#     std2, cmap='viridis', vmin=z_min, vmax=z_max,\n",
    "#     extent=[grid_x.min(), grid_x.max(), grid_y.min(), grid_y.max()],\n",
    "#     interpolation ='nearest', origin ='lower'\n",
    "# )\n",
    "# ax.scatter(campaign.X[:, 0], campaign.X[:, 1], s=0.1, color=\"black\")\n",
    "# ax.set_title(\"Var\")\n",
    "\n",
    "adj.set_grids(ax, grid=False)\n",
    "plt.show()"
   ]
  },
  {
   "cell_type": "markdown",
   "id": "a943993c-0a2b-45c6-a3f3-ac5906007039",
   "metadata": {},
   "source": [
    "# Real data"
   ]
  },
  {
   "cell_type": "code",
   "execution_count": null,
   "id": "eaa4c6f8-2e24-45f1-be4c-8d50ea4f06d3",
   "metadata": {},
   "outputs": [],
   "source": [
    "root = Path.home() / Path(\"Data/22_nanoparticle/2022_04_14\")\n",
    "feature_data = pd.read_excel(root / Path(\"Sample_Info.xlsx\"), sheet_name=[0, 1, 2], index_col=0)\n",
    "feature_data = pd.concat([xx for xx in feature_data.values()], axis=0)\n",
    "feature_data = feature_data[feature_data[\"SAXS\"] == \"Y\"]"
   ]
  },
  {
   "cell_type": "code",
   "execution_count": null,
   "id": "07f8ed21-6680-4fef-b8ba-12638a8b9231",
   "metadata": {},
   "outputs": [],
   "source": [
    "# Get only the features\n",
    "indexes = [int(xx) for xx in feature_data.index.to_list()]\n",
    "feature_data = feature_data[[\"V_CA\", \"V_CN\", \"V_HA\"]].to_numpy()"
   ]
  },
  {
   "cell_type": "code",
   "execution_count": null,
   "id": "7e3a7a30-5df3-418a-90e0-8deb65da500c",
   "metadata": {},
   "outputs": [],
   "source": [
    "root = Path.home() / Path(\"Data/22_nanoparticle/2022_04_14/2021_12_21B_astest_preds\")\n",
    "data = {int(xx.name.split(\"_\")[-2]): np.loadtxt(xx) for xx in root.glob(\"*_pred.dat\")}"
   ]
  },
  {
   "cell_type": "code",
   "execution_count": null,
   "id": "05c30a77-3a4a-47a2-b209-fce0fafdd3d2",
   "metadata": {},
   "outputs": [],
   "source": [
    "target_data_R = np.array([data[ii][0, 0] for ii in indexes])\n",
    "target_data_R_alpha = np.array([data[ii][0, 1] for ii in indexes])\n",
    "target_data_log10s = np.array([data[ii][1, 0] for ii in indexes])\n",
    "target_data_log10s_alpha = np.array([data[ii][1, 1] for ii in indexes])"
   ]
  },
  {
   "cell_type": "code",
   "execution_count": null,
   "id": "e10daf92-565a-4d60-9b2f-13f274fc952c",
   "metadata": {
    "jupyter": {
     "outputs_hidden": true
    },
    "tags": []
   },
   "outputs": [],
   "source": [
    "campaign = Campaign(\n",
    "    feature_data, target_data_R, target_data_R_alpha,\n",
    "    bounds=[(0, 60), (0, 240), (20, 120)], policy=ExpectedImprovementPolicy(), target=70.0, randomstate=124\n",
    ")"
   ]
  },
  {
   "cell_type": "code",
   "execution_count": null,
   "id": "1c7d8616-ccce-43f5-94dc-af937b7c842f",
   "metadata": {},
   "outputs": [],
   "source": [
    "performance = campaign.run(n=10)"
   ]
  },
  {
   "cell_type": "code",
   "execution_count": null,
   "id": "768ce82e-1ea8-47c9-8029-e56f3343180c",
   "metadata": {},
   "outputs": [],
   "source": [
    "r = campaign.truth(campaign.X)"
   ]
  },
  {
   "cell_type": "code",
   "execution_count": null,
   "id": "6e8de186-f063-4164-8806-9a0d203a69cd",
   "metadata": {},
   "outputs": [],
   "source": [
    "r"
   ]
  },
  {
   "cell_type": "code",
   "execution_count": null,
   "id": "fd9b5359-cda3-40ea-8974-4e15243509d5",
   "metadata": {},
   "outputs": [],
   "source": []
  }
 ],
 "metadata": {
  "kernelspec": {
   "display_name": "Python 3 (ipykernel)",
   "language": "python",
   "name": "python3"
  },
  "language_info": {
   "codemirror_mode": {
    "name": "ipython",
    "version": 3
   },
   "file_extension": ".py",
   "mimetype": "text/x-python",
   "name": "python",
   "nbconvert_exporter": "python",
   "pygments_lexer": "ipython3",
   "version": "3.9.10"
  }
 },
 "nbformat": 4,
 "nbformat_minor": 5
}
